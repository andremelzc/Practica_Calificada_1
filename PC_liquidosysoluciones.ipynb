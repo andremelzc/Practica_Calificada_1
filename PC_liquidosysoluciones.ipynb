{
  "nbformat": 4,
  "nbformat_minor": 0,
  "metadata": {
    "colab": {
      "provenance": [],
      "include_colab_link": true
    },
    "kernelspec": {
      "name": "python3",
      "display_name": "Python 3"
    },
    "language_info": {
      "name": "python"
    }
  },
  "cells": [
    {
      "cell_type": "markdown",
      "metadata": {
        "id": "view-in-github",
        "colab_type": "text"
      },
      "source": [
        "<a href=\"https://colab.research.google.com/github/andremelzc/Practicas_Calificadas/blob/main/PC_liquidosysoluciones.ipynb\" target=\"_parent\"><img src=\"https://colab.research.google.com/assets/colab-badge.svg\" alt=\"Open In Colab\"/></a>"
      ]
    },
    {
      "cell_type": "markdown",
      "source": [
        "## Líquidos y soluciones\n",
        "André Iván Meléndez Cava"
      ],
      "metadata": {
        "id": "rQrjzxbY1JGp"
      }
    },
    {
      "cell_type": "markdown",
      "source": [
        "### **Fuerzas intermoleculares**"
      ],
      "metadata": {
        "id": "gTA1IEBR1dVO"
      }
    },
    {
      "cell_type": "markdown",
      "source": [
        "**1. Proponga un ejemplo para cada tipo de fuerzas intermolecuares: a) interacción dipolo-dipolo, b) interacción dipolo-dipolo inducido, c) interacción ion-dipolo, d) fuerzas de dispersión, e) fuerzas de van der Waals**\n",
        "\n",
        "a) Dipolo - Dipolo: Cloroformo (CHCl₃)\n",
        "\n",
        "b) Interacción dipolo-dipolo inducido: Agua (H2O)\n",
        "\n",
        "c) Interacción ion-dipolo: Disolución de sal (NaCl) en agua (H2O)\n",
        "\n",
        "d) Fuerzas de dispersión: Pentano (C5H11), debido a su estrucutura simétrica\n",
        "\n",
        "e) fuerzas de van der Waals: Sulfuro de hidrógeno (H2S), es una interacción dipolo - dipolo (estas están incluidas en las que son llamadas van der Waals)\n",
        "\n"
      ],
      "metadata": {
        "id": "8-GXq5r62V8v"
      }
    },
    {
      "cell_type": "markdown",
      "source": [
        "**2. Explique el término \"polarizabilidad\". ¿Qué clase de moléculas tienden a ser muy polarizables? ¿Qué relación existe entre la polarizabilidad y las fuerzas intermoleculares?**\n",
        "\n",
        "La polarizabilidad es la capacidad de una molécula para deformar su distribución electrónica al contacto o en presencia de un campo eléctrico externo (podría ser una molécula iónica). Aquellas moléculas con mayor peso molecular tienden a ser muy polarizables. Y la relación que existe es que mientras mayor sean las fuerzas intermoleculares, mayor será la polarizabilidad de una molécula.\n"
      ],
      "metadata": {
        "id": "hd9MGv3J1lO1"
      }
    },
    {
      "cell_type": "markdown",
      "source": [
        "**2. Explique la diferencia entre un momento dipolar temporal y un momento\n",
        "dipolar permanente.**\n",
        "\n",
        "La principal diferencia es entre qué tipo de moléculas suceden y la duración. Un momento dipolar permanente se presenta entre dos dipolos permanentes y es una característica constante de estas moléculas. En cambio, el momento dipolar temporal sucede entre dipolos instantáneos, se les llama así porque solo duran una pequeña fracción de segundo."
      ],
      "metadata": {
        "id": "WhALDkEZ2F0P"
      }
    },
    {
      "cell_type": "markdown",
      "source": [
        "**3. Mencione alguna evidencia de que todos los átomos y moléculas ejercen entre sí fuerzas de atracción.**\n",
        "\n",
        "\n",
        "Este tipo de evidencia se encuentra en los fenómenos que observamos en la naturaleza. Por ejemplo, en los estados de la materia. En el caso del hielo, las fuerzas de atracción son altas, y debido a eso se mantiene tal como está, como un sólido. Pero cuando se aumenta la temperatura del ambiente en el que está el hielo, las moléculas del hielo comienzan a ganar energía, y esta comienza a superar las fuerzas de atracción entre las moléculas, de tal forma pasando a ser agua, es decir, a estado líquido. Este proceso tiene que volver a pasar para que el agua pase a ser vapor de agua, es decir, a estado gaseoso."
      ],
      "metadata": {
        "id": "VHHoadBb2MvH"
      }
    },
    {
      "cell_type": "markdown",
      "source": [
        "**4. ¿Cuál de las siguientes propiedades indica que las fuerzas intermoleculares de un líquido son fuertes? a) tensión superficial baja, b) temperatura crítica muy baja, c) punto de ebullición muy bajo, d) presión de vapor muy baja**\n",
        "\n",
        "a) No es, para que la tensión superficial sea baja, las fuerzas intermoleculares también lo deberían de ser.\n",
        "\n",
        "b) No es, si las fuferzas intermoleculares son fuertes, la temperatura crítica es alta.\n",
        "\n",
        "c) No es, si el  punto de ebullión es bajo eso significa que las fuerzas intermoleculares son débiles, porque se necesita menos temperatura para romperlas.\n",
        "\n",
        "d) Sí es, si las fuerzas intermoleculares son fuertes, el líquido será menos volátil debido a que sus moléculas estarán más sujetadas entre sí, y por lo tanto habrá menos presión de vapor"
      ],
      "metadata": {
        "id": "YIQXbu6l2tAX"
      }
    },
    {
      "cell_type": "markdown",
      "source": [
        "### **Propiedades de los líquidos**"
      ],
      "metadata": {
        "id": "vfI8SNoY2zmQ"
      }
    },
    {
      "cell_type": "markdown",
      "source": [
        "**6. ¿Qué es la tensión superficial? ¿Qué relación existe entre esta propiedad y las fuerzas intermoleculares? ¿Cómo cambia la tensión superficial con la temperatura?**\n",
        "\n",
        "La tensión superficial es una propiedad que poseen los líquidos que puede definirse como la resistencia que presentan estos para aumentar su superficie.\n",
        "Esta propiedad se produce debido a las fuerzas intermoleculares que hay entre las moléculas. Estas fuerzas jalan a las moléculas hacia todos los sentidos (menos hacia la superficie), de esa forma generando la tensión. Se puede decir que mientras más fuertes sean las fuerzas, mayor  será la tensión superficial.\n",
        "A mayor temperatura, las fuerzas intermoleculares se debilitan, por lo tanto, la tensión superficial disminuye."
      ],
      "metadata": {
        "id": "t6KyIWWr24rg"
      }
    },
    {
      "cell_type": "markdown",
      "source": [
        "**7. Un vaso se puede llenar con agua justo por encima del borde. ¿Por qué el agua no se derrama?**\n",
        "\n",
        "Esto se debe a la propiedad de la tensión superficial. Cuando se llena un vaso con agua, sus moléculas se mantienen unidas por las fuerzas intermoleculares que se generan, para ser más específicos las que son de cohesión. Esto permite al agua no derramarse fuera del vaso."
      ],
      "metadata": {
        "id": "9cCNYN_m26Wc"
      }
    },
    {
      "cell_type": "markdown",
      "source": [
        "**8. ¿Por qué la viscosidad de un líquido disminuye con el aumento en su temperatura?**\n",
        "\n",
        "Esto se debe a que la viscosidad de un líquido disminuye si las fuerzas intermoleculares que hay entre sus moléculas se debilitan, y estas últimas lo hacen a una mayor temperatura por la energía que ingresa a la molécula."
      ],
      "metadata": {
        "id": "W9uo4UCy27Ee"
      }
    },
    {
      "cell_type": "markdown",
      "source": [
        "**9. ¿Por qué el hielo es menos denso que el agua?**\n",
        "\n",
        "Esto se debe a la diferencia de sus estructuras moleculares. En el caso del agua, las moléculas se mueven libremente, formando unos enlaces llamados puentes de hidrógeno. Estas moléculas tienen un movimiento \"desordenado\", y al poder moverse de esta forma, pueden ocupar tanto espacio quieran, así aumentando la cantidad de moléculas por zona (mayor densidad). En cambio, cuando se disminuye la temperatura y el agua se convierte en hielo, las fuerzas intermoleculares se vuelven más fuertes y el movimiento pasa a ser casi nulo. Como las moléculas están estáticas, hay huecos entre estas, de esa forma habiendo menos moléculas por zona (menor densidad).\n"
      ],
      "metadata": {
        "id": "pYb4SayB28Dv"
      }
    },
    {
      "cell_type": "markdown",
      "source": [
        "### **Soluciones**"
      ],
      "metadata": {
        "id": "TFYUeO2y2-Kp"
      }
    },
    {
      "cell_type": "markdown",
      "source": [
        "**10. Describa brevemente el proceso de disolución a nivel molecular. Utilice como ejemplo la disolución de un sólido en un líquido.**\n",
        "\n",
        "El proceso de disolución se explica conociendo cómo es que interactúan las fuerzas intermoleculares del sólido y del líquido. Para que el sólido se disuelva en el líquido, primero debe haber una interacción, y luego, las fuerzas de atracción entre las moléculas del soluto y la del disolvente deben ser más fuertes que las fuerzas intermoleculares del soluto. Si es que lo son, las moléculas del sólido se irán separando y distribuyéndose en el líquido, de esa forma generando una solución (mezcla homogénea)."
      ],
      "metadata": {
        "id": "8xFuAeM53A4k"
      }
    },
    {
      "cell_type": "markdown",
      "source": [
        "**11. Según se sabe, algunos procesos de disolución son endotérmicos y otros son exotérmicos. Proponga una interpretación molecular de esta diferencia.**\n",
        "\n",
        "En endotérmicas: Las fuerzas intermoleculares que hay entre el solvente y el soluto son más débiles que las fuerzas que hay dentro de las moléculas de cada una, por lo tanto, es necesario una cantidad de energía para poder superar dichas fuerzas y que se pueda realizar la disolución.\n",
        "\n",
        "En exotérmicas: Solo hay una pequeña diferencia con las endotérmicas. Las fuerzas intermoleculares que hay entre el solvente y el soluto son mucho más fuertes que las fuerzas que hay dentro de las moléculas de cada una, por lo tanto, cuando se realice la disolución se expulsará energía en forma de calor."
      ],
      "metadata": {
        "id": "Hd8i9ySR3CCm"
      }
    },
    {
      "cell_type": "markdown",
      "source": [
        "**12. Describa los factores que afectan la solubilidad de un sólido en un líquido. ¿Qué significa decir que dos líquidos son miscibles?**\n",
        "\n",
        "\n",
        "Algunos factores importantes son:\n",
        "\n",
        "- Temperatura: A más temperatura, las fuerzas intermoleculares suelen debilitarse. Eso faciltia la solubilidad.\n",
        "- Naturaleza: Sustancias con una estructura química similar suelen ser más solubles entre sí. Por eso, las sustancias polares tienden a disolverse en otras sustancias polares, lo mismo sucede con las apolares, que solo se disuelven en otras apolares.\n",
        "\n",
        "Y  se dice que dos líquidios son miscibles cuando pueden mezclarse en cualquier proporción para generar una solo fase (una mezcla homogénea)."
      ],
      "metadata": {
        "id": "ptIr5tJ33Csz"
      }
    },
    {
      "cell_type": "markdown",
      "source": [
        "**13. Explique por qué el etanol (C₂H5OH) no es soluble en ciclohexano (C6H12).**\n",
        "\n",
        "Esto se podría explicar gracias a la estructura química de cada uno. El etanol es una molécula polar, ya que posee un grupo OH, en cambio, el ciclohexano es una molécula apolar, ya que toda su estructura es simétrica y no poseen grupos funcionales. También se puede deber a las diferentes fuerzas intermoleculares que hay en cada uno (para que puedan ser solubles, dichas fuerzas tienen que ser similares)."
      ],
      "metadata": {
        "id": "5RVnbHAE3DXy"
      }
    },
    {
      "cell_type": "markdown",
      "source": [
        "### **Unidades de concentración**"
      ],
      "metadata": {
        "id": "gQAhjsfB3HGN"
      }
    },
    {
      "cell_type": "markdown",
      "source": [
        "**14. Describa brevemente los pasos que se requieren para la conversión entre molaridad, molalidad y porcentaje en masa.**\n",
        "\n",
        "Para hallar dichas medidas se necesita información sobre el soluto, el solvente y la solución.\n",
        "\n",
        "Molaridad: Primero, se debe hallar la cantidad de moles de soluto que hay (se puede hallar diviendo la masa que se tiene por la masa molar) y el volumen de la solución (tiene que estar en litro, así que sí está en metros cúbicos o sus múltiplos/submúltiplos, se tendrá que multiplicar por el factor correspondiente). Después dividir el número de moles del soluto por el de la solución.\n",
        "\n",
        "Molalidad: Se necesita tener la cantidad de moles del soluto y la cantidad de masa del solvente (tiene que estar en kilogamos). Luego, dividirlo en el orden mencionado.\n",
        "\n",
        "Porcentaje en masa: Se necesita conocer la masa del soluto y de la solución (en gramos).  Luego dividirlo en el orden mencionado y multiplicarlo por el 100%."
      ],
      "metadata": {
        "id": "T58SC4Nm89HR"
      }
    },
    {
      "cell_type": "markdown",
      "source": [
        "**15. Calcule el porcentaje en masa de soluto en cada una de las siguientes disoluciones acuosas : a) 5.50 g de NaBr en 78.2 g de disolución, b) 31.0 g de KCl en 152 g de agua, c) 4.5 g de tolueno en 29 g de benceno.**"
      ],
      "metadata": {
        "id": "naQRU2ei9E0T"
      }
    },
    {
      "cell_type": "code",
      "source": [
        "#Definiendo una función que halle el porcentaje en masa\n",
        "#En caso no se tenga el dato de la solución, se pone el del solvente. Todo en las mismas unidades\n",
        "def porcentaje_masa(soluto,solvente,solucion):\n",
        "  if solucion != 0:\n",
        "    porcentaje = soluto/solucion * 100\n",
        "    return porcentaje\n",
        "  else:\n",
        "    solucion=soluto+solvente\n",
        "    porcentaje = soluto/solucion * 100\n",
        "    return porcentaje"
      ],
      "metadata": {
        "id": "JUP7DNuNQvuD"
      },
      "execution_count": null,
      "outputs": []
    },
    {
      "cell_type": "code",
      "source": [
        "# a)\n",
        "porc_NaBr = round(porcentaje_masa(5.50,0,78.2),2)\n",
        "print(\"El porcentaje en masa del NaBr es de\",porc_NaBr,\"%\")\n",
        "# b)\n",
        "porc_KCl = round(porcentaje_masa(31,152,0),2)\n",
        "print(\"El porcentaje en masa del KCl es de\",porc_KCl,\"%\")\n",
        "# c)\n",
        "porc_tolueno = round(porcentaje_masa(4.5,29,0),2)\n",
        "print(\"El porcentaje en masa del tolueno es de\",porc_tolueno,\"%\")"
      ],
      "metadata": {
        "colab": {
          "base_uri": "https://localhost:8080/"
        },
        "id": "CAcB80K6SrP5",
        "outputId": "983dc55f-eb76-4b74-ef89-7a64b872755a"
      },
      "execution_count": null,
      "outputs": [
        {
          "output_type": "stream",
          "name": "stdout",
          "text": [
            "El porcentaje en masa del NaBr es de 7.03 %\n",
            "El porcentaje en masa del KCl es de 16.94 %\n",
            "El porcentaje en masa del tolueno es de 13.43 %\n"
          ]
        }
      ]
    },
    {
      "cell_type": "markdown",
      "source": [
        "**16. Calcule la cantidad de agua (en gramos) que se debe agregar a : a) 5.00 g de urea (NH₂)₂CO para preparar una disolución al 16.2% en masa y b) 26.2 g de MgCl₂ para preparar una disolución al 1.5% en masa.**"
      ],
      "metadata": {
        "id": "V9YuRxk19NQ8"
      }
    },
    {
      "cell_type": "code",
      "source": [
        "#Definiendo una función que halle la masa del solvente conociendo el porcentaje en masa\n",
        "def solvente_masa(porcentaje,soluto):\n",
        "  cociente = porcentaje/100\n",
        "  solucion = soluto/cociente\n",
        "  solvente = solucion - soluto\n",
        "  return solucion"
      ],
      "metadata": {
        "id": "3A9mzagyUJQM"
      },
      "execution_count": null,
      "outputs": []
    },
    {
      "cell_type": "code",
      "source": [
        "# a)\n",
        "agua_urea = round(solvente_masa(16.2,5),2)\n",
        "print(\"Para preparar una disolución al 16,2% con 5 g de urea se necesita\",agua_urea,\"g de agua\")\n",
        "# b)\n",
        "agua_MgCl = round(solvente_masa(1.5,26.2),2)\n",
        "print(\"Para preparar una disolución al 1,5% con 26.2 g de MgCl2 se necesita\",agua_MgCl,\"g de agua\")"
      ],
      "metadata": {
        "colab": {
          "base_uri": "https://localhost:8080/"
        },
        "id": "_yT27PpdUpRV",
        "outputId": "81836cb1-5bc0-44a8-ac00-ce4f5be8b7be"
      },
      "execution_count": null,
      "outputs": [
        {
          "output_type": "stream",
          "name": "stdout",
          "text": [
            "Para preparar una disolución al 16,2% con 5 g de urea se necesita 30.86 g de agua\n",
            "Para preparar una disolución al 1,5% con 26.2 g de MgCl2 se necesita 1746.67 g de agua\n"
          ]
        }
      ]
    },
    {
      "cell_type": "markdown",
      "source": [
        "**17. Calcule la molalidad de cada una de las siguientes disoluciones: a) 14.3 g de sacarosa (C12H22O11) en 676 g de agua, b) 7.20 moles de etilenglicol (C2H6O2) en 3 546 g de agua ***"
      ],
      "metadata": {
        "id": "e7t0YC8r9QY3"
      }
    },
    {
      "cell_type": "code",
      "source": [
        "#Definiendo una función que halle la molalidad\n",
        "#moles de soluto y masa de solvente (en g)\n",
        "#Introduce \"0\" si se desconoce el dato\n",
        "\n",
        "def molalidad(masa_soluto,moles_soluto,masa_solvente):\n",
        "  if moles_soluto != 0:\n",
        "    masa_solvente = masa_solvente/1000\n",
        "    molalidad = moles_soluto/masa_solvente\n",
        "    return molalidad\n",
        "  else:\n",
        "    masamol_soluto = float(input(\"Ingresa la masa molecular (en g) de la molécula soluto: \"))\n",
        "    moles_soluto = masa_soluto/masamol_soluto\n",
        "    masa_solvente = masa_solvente/1000\n",
        "    molalidad = moles_soluto/masa_solvente\n",
        "    return molalidad\n"
      ],
      "metadata": {
        "id": "RWHmvG1Fc5Xd"
      },
      "execution_count": null,
      "outputs": []
    },
    {
      "cell_type": "code",
      "source": [
        "# a)\n",
        "molalidad_sacarosa = round(molalidad(14.3,0,676),2)\n",
        "# Masa molecular  de la sacarosa = 342 g\n",
        "print(\"La molalidad de 14.3 g de sacarosa en 676 g de agua es\",molalidad_sacarosa)\n",
        "\n",
        "# b)\n",
        "molalidad_etilenglicol = round(molalidad(0,7.2,3545))\n",
        "print(\"La molalidad de 7 moles de etilenglicol en 3 546 g de agua es\",molalidad_etilenglicol)"
      ],
      "metadata": {
        "colab": {
          "base_uri": "https://localhost:8080/"
        },
        "id": "S_EwttjlgysP",
        "outputId": "ff0ea28f-47f8-4b22-c265-45f5a1113436"
      },
      "execution_count": null,
      "outputs": [
        {
          "output_type": "stream",
          "name": "stdout",
          "text": [
            "Ingresa la masa molecular (en g) de la molécula soluto: 342\n",
            "La molalidad de 14.3 g de sacarosa en 676 g de agua es 0.06\n",
            "La molalidad de 7 moles de etilenglicol en 3 546 g de agua es 2\n"
          ]
        }
      ]
    },
    {
      "cell_type": "markdown",
      "source": [
        "**18. Calcule la molaridad y la molalidad de una disolución de NH3 preparada con 30.0 g de NH3 en 70.0 g de agua. La densidad de la disolución es de 0.982 g/mL.**"
      ],
      "metadata": {
        "id": "sSKEaSDr9S5I"
      }
    },
    {
      "cell_type": "code",
      "source": [
        "#A partir de la densidad, usamos un dato, la masa del soluto, para hallar el volumen de la solucion\n",
        "#Densidad en (g/ml)\n",
        "def volumen_ml_densidad(masa_soluto,densidad):\n",
        "  volumen = masa_soluto/densidad\n",
        "  return volumen"
      ],
      "metadata": {
        "id": "QUsHuJ5IjP82"
      },
      "execution_count": null,
      "outputs": []
    },
    {
      "cell_type": "code",
      "source": [
        "#Masa en gramos y volumen en mililitros\n",
        "def molaridad(masa_soluto,volumen_solucion):\n",
        "  masamol_soluto = float(input(\"Introduce la masa molecular (en g) de la molécula soluto: \"))\n",
        "  moles_soluto = masa_soluto/masamol_soluto\n",
        "  volumen_solucion = volumen_solucion/1000\n",
        "  molaridad = moles_soluto/volumen_solucion\n",
        "  return molaridad"
      ],
      "metadata": {
        "id": "8vlKkffKjAu_"
      },
      "execution_count": null,
      "outputs": []
    },
    {
      "cell_type": "code",
      "source": [
        "#Usando la función de molalidad del problema 17\n",
        "# Masa molecular del NH3 = 17 g\n",
        "molalidad_NH3 = round(molalidad(30,0,70),2)\n",
        "print(\"La molalidad de 30 g de NH3 en 70 g de agua es\",molalidad_NH3)\n",
        "\n",
        "vol_NH3 = float(volumen_ml_densidad(30,0.982))\n",
        "molaridad_NH3 = round(molaridad(30,vol_NH3),2)\n",
        "print(\"La molalidad de 30 g de NH3 en 70 g de agua es\",molaridad_NH3)\n"
      ],
      "metadata": {
        "colab": {
          "base_uri": "https://localhost:8080/"
        },
        "id": "lxJvWwvCiMFj",
        "outputId": "1ad7817b-79ce-4be5-b2b6-d2a45241a8c6"
      },
      "execution_count": null,
      "outputs": [
        {
          "output_type": "stream",
          "name": "stdout",
          "text": [
            "Ingresa la masa molecular (en g) de la molécula soluto: 17\n",
            "La molalidad de 30 g de NH3 en 70 g de agua es 25.21\n",
            "Introduce la masa molecular (en g) de la molécula soluto: 17\n",
            "La molalidad de 30 g de NH3 en 70 g de agua es 57.76\n"
          ]
        }
      ]
    },
    {
      "cell_type": "markdown",
      "source": [
        "**19. La densidad de una disolución acuosa que contiene 10.0% en masa de etanol (C₂H5OH) es de 0.984 g/mL. a) Calcule la molalidad de esta disolución. b) Calcule su molaridad. c) ¿Qué volumen de la disolución conten drá 0.125 moles de etanol?**"
      ],
      "metadata": {
        "id": "UmGo55HX9Vjx"
      }
    },
    {
      "cell_type": "code",
      "source": [
        "#Masa molecular del etanol = 46 gramos\n",
        "#Debido a que la disolución contiene 10% masa, la masa de la solución es 460 gramos y la del solvente 414 gramos"
      ],
      "metadata": {
        "id": "898KDcmonUFS"
      },
      "execution_count": null,
      "outputs": []
    },
    {
      "cell_type": "code",
      "source": [
        "molalidad_etanol = round(molalidad(46,0,414),2)\n",
        "print(\"La molalidad de dicha solución es\",molalidad_etanol)"
      ],
      "metadata": {
        "colab": {
          "base_uri": "https://localhost:8080/"
        },
        "id": "UKKO5wOYoe_B",
        "outputId": "917bb71d-36cc-43a1-912c-2ac8216cf753"
      },
      "execution_count": null,
      "outputs": [
        {
          "output_type": "stream",
          "name": "stdout",
          "text": [
            "Ingresa la masa molecular (en g) de la molécula soluto: 46\n",
            "La molalidad de dicha solución es 2.42\n"
          ]
        }
      ]
    },
    {
      "cell_type": "code",
      "source": [
        "volumen_etanol = volumen_ml_densidad(46,0.984)\n",
        "molaridad_etanol = round(molaridad(46,volumen_etanol),2)\n",
        "print(\"La molaridad de dicha solución es\",molaridad_etanol)"
      ],
      "metadata": {
        "colab": {
          "base_uri": "https://localhost:8080/"
        },
        "id": "i0_Ovzcsppx-",
        "outputId": "01cf2712-9d6c-4c31-cf6c-97d66ba76d71"
      },
      "execution_count": null,
      "outputs": [
        {
          "output_type": "stream",
          "name": "stdout",
          "text": [
            "Introduce la masa molecular (en g) de la molécula soluto: 46\n",
            "La molaridad de dicha solución es 21.39\n"
          ]
        }
      ]
    },
    {
      "cell_type": "code",
      "source": [
        "#definimos una función para hallar la masa, conociendo el número de moles\n",
        "def masa_moles(masa_molecular,num_moles):\n",
        "  masa_molecula = masa_molecular * num_moles\n",
        "  return masa_molecula"
      ],
      "metadata": {
        "id": "KQL-41nMqM9k"
      },
      "execution_count": null,
      "outputs": []
    },
    {
      "cell_type": "code",
      "source": [
        "masa_etanol = masa_moles(46,0.125)\n",
        "volumen_etanol = round(volumen_ml_densidad(masa_etanol,0.984),2)\n",
        "print(\"Si la disolución contiene 0,125 moles de etanol, tendrá un volumen de\",volumen_etanol,\"litros\")"
      ],
      "metadata": {
        "colab": {
          "base_uri": "https://localhost:8080/"
        },
        "id": "4efxu-L3qimE",
        "outputId": "bd83c3f2-658d-4ff1-e85b-c42b8d4c4d74"
      },
      "execution_count": null,
      "outputs": [
        {
          "output_type": "stream",
          "name": "stdout",
          "text": [
            "Si la disolución contiene 0,125 moles de etanol, tendrá un volumen de 5.84 litros\n"
          ]
        }
      ]
    },
    {
      "cell_type": "markdown",
      "source": [
        "### **Efecto de la temperatura en la solubilidad**"
      ],
      "metadata": {
        "id": "95lp-jd13Lj_"
      }
    },
    {
      "cell_type": "markdown",
      "source": [
        "**20. Una muestra de 3.20 g de una sal se disuelve en 9.10 g de agua para formar una disolución saturada a 25°C. ¿Cuál es la solubilidad (en g de sal/100 g de H₂O) de la sal?**"
      ],
      "metadata": {
        "id": "f935PYJQ3Qkr"
      }
    },
    {
      "cell_type": "code",
      "source": [
        "# Por cada 100 g de agua\n",
        "masa_sal = round(3.2*100/9.1,2)\n",
        "print(\"La solubilidad de la sal es\",masa_sal,\"g de sal por cada 100 g de agua\")"
      ],
      "metadata": {
        "colab": {
          "base_uri": "https://localhost:8080/"
        },
        "id": "UvxxHyqys9Fl",
        "outputId": "7ce0509e-b3b1-4a7f-b84f-86a10a981714"
      },
      "execution_count": null,
      "outputs": [
        {
          "output_type": "stream",
          "name": "stdout",
          "text": [
            "La solubilidad de la sal es 35.16 g de sal por cada 100 g de agua\n"
          ]
        }
      ]
    }
  ]
}