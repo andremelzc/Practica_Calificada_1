{
  "cells": [
    {
      "cell_type": "markdown",
      "metadata": {
        "id": "view-in-github",
        "colab_type": "text"
      },
      "source": [
        "<a href=\"https://colab.research.google.com/github/andremelzc/Practicas_Calificadas/blob/main/PC1_Pr%C3%A1ctica.ipynb\" target=\"_parent\"><img src=\"https://colab.research.google.com/assets/colab-badge.svg\" alt=\"Open In Colab\"/></a>"
      ]
    },
    {
      "cell_type": "code",
      "execution_count": null,
      "metadata": {
        "colab": {
          "base_uri": "https://localhost:8080/"
        },
        "id": "b6PLfss94Rgk",
        "outputId": "4864c538-3d84-4fbb-e783-ed80e57bac4f"
      },
      "outputs": [
        {
          "name": "stdout",
          "output_type": "stream",
          "text": [
            "La version que se esta utilizando es:  ['Python 3.10.12']\n",
            "\n",
            "\n",
            "Las palabras reservadas son: \n",
            "\n",
            "Here is a list of the Python keywords.  Enter any keyword to get more help.\n",
            "\n",
            "False               class               from                or\n",
            "None                continue            global              pass\n",
            "True                def                 if                  raise\n",
            "and                 del                 import              return\n",
            "as                  elif                in                  try\n",
            "assert              else                is                  while\n",
            "async               except              lambda              with\n",
            "await               finally             nonlocal            yield\n",
            "break               for                 not                 \n",
            "\n"
          ]
        }
      ],
      "source": [
        "#1.1 Imprime la versión de python que usas y las palabras reservadas de python para esa versión.\n",
        "version = !python --version\n",
        "print(\"La version que se esta utilizando es: \", version)\n",
        "\n",
        "print(\"\\n\")\n",
        "print(\"Las palabras reservadas son: \")\n",
        "help(\"keywords\")\n"
      ]
    },
    {
      "cell_type": "code",
      "execution_count": null,
      "metadata": {
        "colab": {
          "base_uri": "https://localhost:8080/"
        },
        "id": "hT7e1mFF87K9",
        "outputId": "04c718d5-a07a-4b0f-f17c-efb261750f48"
      },
      "outputs": [
        {
          "name": "stdout",
          "output_type": "stream",
          "text": [
            "[74, 25, 7]\n",
            "[7, 34, 23]\n",
            "[43, 54, 90]\n",
            "La suma es:  198\n"
          ]
        }
      ],
      "source": [
        "#1.2 Crea una matriz de 3x3 e imprime la suma de los elementos en su diagonal (traza).\n",
        "A=[[74,25,7],[7,34,23],[43,54,90]]\n",
        "sum_diagonal = 0\n",
        "for i in range(len(A)):\n",
        "  sum_diagonal += A[i][i]\n",
        "\n",
        "for fila in A:\n",
        "  print(fila)\n",
        "print(\"La suma es: \", sum_diagonal)\n",
        "\n"
      ]
    },
    {
      "cell_type": "code",
      "execution_count": null,
      "metadata": {
        "colab": {
          "base_uri": "https://localhost:8080/"
        },
        "id": "qVaaoBdM-Hyt",
        "outputId": "db52a851-e2d9-490e-efc0-ef55ccf4a991"
      },
      "outputs": [
        {
          "name": "stdout",
          "output_type": "stream",
          "text": [
            "La masa molecular del etanol es:  46.07\n"
          ]
        }
      ],
      "source": [
        "#1.3 Guarda como variable la masa atómica de los elementos C, H y O, e imprime la masa molecular del etanol.\n",
        "masa_hidrogeno = 1.008\n",
        "masa_oxigeno = 15.999\n",
        "masa_carbono = 12.011\n",
        "masa_etanol = masa_carbono*2+masa_oxigeno+masa_hidrogeno*6\n",
        "print(\"La masa molecular del etanol es: \",round(masa_etanol,2))\n"
      ]
    },
    {
      "cell_type": "code",
      "execution_count": null,
      "metadata": {
        "colab": {
          "base_uri": "https://localhost:8080/"
        },
        "id": "xf4fLbw1_O7m",
        "outputId": "4160d7cf-c4ca-4312-abdb-af0d3e1556d7"
      },
      "outputs": [
        {
          "name": "stdout",
          "output_type": "stream",
          "text": [
            "El metal  plata  tiene una temperatura de fusion de  1235  kelvin\n",
            "El metal  oro  tiene una temperatura de fusion de  1337  kelvin\n",
            "El metal  estano  tiene una temperatura de fusion de  505  kelvin\n",
            "El metal  hierro  tiene una temperatura de fusion de  1811  kelvin\n",
            "El metal  vanadio  tiene una temperatura de fusion de  2183  kelvin\n"
          ]
        }
      ],
      "source": [
        "#1.4 Busca la temperatura de fusión en Celsius de 5 metales y guárdalos en una lista. Imprime las temperaturas en Kelvin\n",
        "metales = [\"plata\",\"oro\",\"estano\",\"hierro\",\"vanadio\"]\n",
        "temp_met_cel = [962, 1064,232,1538,1910]\n",
        "temp_met_kel = []\n",
        "\n",
        "for i in range(5):\n",
        "    kelvin = temp_met_cel[i] + 273\n",
        "    temp_met_kel.append(kelvin)\n",
        "    print(\"El metal \",metales[i],\" tiene una temperatura de fusion de \",temp_met_kel[i],\" kelvin\")"
      ]
    },
    {
      "cell_type": "code",
      "execution_count": null,
      "metadata": {
        "colab": {
          "background_save": true,
          "base_uri": "https://localhost:8080/"
        },
        "id": "cutcCEr3igLu",
        "outputId": "db74da3d-9cb7-4123-ccf2-1ca050c2a5a0"
      },
      "outputs": [
        {
          "name": "stdout",
          "output_type": "stream",
          "text": [
            "Error, intentálo de nuevo\n"
          ]
        }
      ],
      "source": [
        " \"\"\"\n",
        " #2 Escribe un programa que lea repetidamente elementos químicos en español hasta que el usuario introduzca “fin”. Una vez se haya introducido “fin”, muestra por\n",
        " pantalla (o sea imprime) el total de elementos ingresados. Si el usuario introduce cualquier otra cosa que no sea un elemento químico, detecta su fallo usando try\n",
        " y except, muestra un mensaje de error y pasa al siguiente elemento.\n",
        " \"\"\"\n",
        "\n",
        "elementos_quimicos = [\"hidrogeno\", \"helio\", \"litio\", \"berilio\", \"boro\", \"carbono\", \"nitrogeno\", \"oxigeno\", \"fluor\", \"neon\", \"sodio\", \"magnesio\", \"aluminio\", \"silicio\", \"fosforo\",\n",
        "\"azufre\", \"cloro\", \"argon\", \"potasio\", \"calcio\", \"escandio\", \"titanio\", \"vanadio\", \"cromo\", \"manganeso\", \"hierro\", \"cobalto\", \"niquel\", \"cobre\", \"zinc\", \"galio\", \"germanio\", \"arsenico\",\n",
        "\"selenio\", \"bromo\", \"kripton\", \"rubidio\", \"estroncio\", \"itrio\", \"circonio\", \"niobio\", \"molibdeno\", \"tecnecio\", \"rutenio\", \"rodio\", \"paladio\", \"plata\", \"cadmio\", \"indio\", \"estano\",\n",
        "\"antimonio\", \"telurio\", \"yodo\", \"xenon\", \"cesio\", \"bario\", \"lantano\", \"cerio\", \"praseodimio\", \"neodimio\", \"prometio\", \"samario\", \"europio\", \"gadolinio\", \"terbio\", \"disprosio\", \"holmio\",\n",
        "\"erbio\", \"tulio\", \"iterbio\", \"lutecio\", \"hafnio\", \"tantalio\", \"tungsteno\", \"renio\", \"osmio\", \"iridio\", \"platino\", \"oro\", \"mercurio\", \"talio\", \"plomo\", \"bismuto\", \"polonio\", \"astato\",\n",
        "\"radon\", \"francio\", \"radio\", \"actinio\", \"torio\", \"proctinio\", \"uranio\", \"neptunio\", \"plutonio\", \"americio\", \"curio\", \"berkelio\", \"californio\", \"einstenio\", \"fermio\",\n",
        "\"mendelevio\", \"nobelio\", \"laurencio\"]\n",
        "\n",
        "elementos_ingresados = []\n",
        "\n",
        "while True:\n",
        "  elemento = input(\"Ingrese un elemento químico en español y en minúscula, escriba ´fin´ para terminar: \")\n",
        "  if elemento == \"fin\":\n",
        "    break\n",
        "  try:\n",
        "    if elemento in elementos_quimicos:\n",
        "      elementos_ingresados.append(elemento)\n",
        "    else:\n",
        "      raise ValueError(\"Elemento químico no aceptado\")\n",
        "  except ValueError as error:\n",
        "    print(\"Error, intentálo de nuevo\")\n",
        "\n",
        "print(\"Se ingresaron unos \", len(elementos_ingresados) ,\"elementos, y son: \", elementos_ingresados)"
      ]
    },
    {
      "cell_type": "code",
      "execution_count": null,
      "metadata": {
        "colab": {
          "base_uri": "https://localhost:8080/"
        },
        "id": "5yWjOoNA-8LX",
        "outputId": "afe33d48-ea11-44e0-bb28-dfd43e6a3a49"
      },
      "outputs": [
        {
          "name": "stdout",
          "output_type": "stream",
          "text": [
            "La reacción química ya balanceada es: 4 C6O6H5 + 17 O2 --> 24 CO2 + 10 H2O\n",
            "La masa de los reactivos es:  1236.346\n",
            "La masa de los productos es:  1236.346\n",
            "-- > Se cumple la conservación de materia\n"
          ]
        }
      ],
      "source": [
        "#3 Demuestra cómo se cumple la conservación de la masa en la siguiente reacción química\n",
        "print(\"La reacción química ya balanceada es: 4 C6O6H5 + 17 O2 --> 24 CO2 + 10 H2O\")\n",
        "C6O6H5_masa = 12.011*6 + 15.999*6 + 1.007*5\n",
        "O2_masa = 15.999*2\n",
        "CO2_masa = 12.011 + 15.999*2\n",
        "H2O_masa = 15.999 + 1.007*2\n",
        "masa_reactivos = 4*C6O6H5_masa + 17*O2_masa\n",
        "masa_productos= 24*CO2_masa + 10*H2O_masa\n",
        "print(\"La masa de los reactivos es: \", masa_reactivos)\n",
        "print(\"La masa de los productos es: \", masa_productos)\n",
        "if masa_reactivos == masa_productos:\n",
        "  print(\"-- > Se cumple la conservación de materia\")\n",
        "else:\n",
        "  print(\"No se cumple la conservación de materia\")\n",
        "\n"
      ]
    },
    {
      "cell_type": "code",
      "execution_count": null,
      "metadata": {
        "colab": {
          "base_uri": "https://localhost:8080/"
        },
        "id": "pOBCTMn9uBo5",
        "outputId": "e100ea3d-fcde-4e16-d3c1-c513ec41564a"
      },
      "outputs": [
        {
          "name": "stdout",
          "output_type": "stream",
          "text": [
            "(1) 8.51 * 10^-2\n",
            "(2) 1.51 * 10^3\n",
            "(3) 5.33 * 10^10\n",
            "(3) 1.03 * 10\n"
          ]
        }
      ],
      "source": [
        "\"\"\"\"\n",
        "#4 Imprime las siguientes operaciones según la notación científica:\n",
        "(1)  1.321×10^−4 + 8.5×10^−2\n",
        "(2)  1.71×10^3 − 2.01×10^2\n",
        "(3)  (7.4×10^5) (7.2×10^4)\n",
        "(4)  (7.4×10^5)/(7.2×10^4)\n",
        "\"\"\"\n",
        "print(\"(1)\",round((1.321 + 850)/100,2),  \"* 10^-2\")\n",
        "print(\"(2)\", round((17.1 - 2.01)/10,2) ,\"* 10^3\")\n",
        "print(\"(3)\", round(7.4*7.2/10,2) ,\"* 10^10\")\n",
        "print(\"(3)\", round(7.4/7.2,2) ,\"* 10\")"
      ]
    },
    {
      "cell_type": "code",
      "execution_count": null,
      "metadata": {
        "id": "XcpCD9w5uYFD"
      },
      "outputs": [],
      "source": [
        "#5 Leer el siguiente artículo y explica cómo es aplicado el método científico. Emplea como máximo 300 palabras.\n",
        "\"\"\"\n",
        "En el artículo se habla sobre el LK-99, el cual se creía que era un superconductor que funcionaba a presión y temperatura ambiente, lo cual era sorprende porque estos suelen\n",
        "funcionar a bajas temperaturas y presiones extremas. Desde que se había hecho pública dicha noticia varios laboratorios trataron de imitar el fenómeno, y después de varios intentos\n",
        "lo veían inviable. Los fundamentos en los cuales se basaban el equipo que había hecho el descubrimiento era su reacción de levitar frente a un magneto y la caida de resistividad.\n",
        "Derrick VanGennep, un investigador en la universidad de Harvard, le parecía más probable que dicha reacción se debía al ferromagnetismo, ya que había una diferencia con cómo\n",
        "debería reaccionar un superconductor real frente a un magneto. Después de unos meses, un equipo confirmó lo mencionado por VanGeneep, el tipo de levitación que aparecía en LK-99\n",
        "era por el ferromagnetismo.\n",
        "Y respecto a la caída de resistividad, esto se debía las impurezas de Cu2S encontradas en LK-99, encontradas por un equiposurcoreano después de realizar experimentos cambiando\n",
        "la temperatura y fijándose en la resistividad.\n",
        "El método científico fue crucial para averiguar las verdaderas propiedades de LK-99, al inició un equipo había propuesto sobre la posesión propiedades superconductoras, y a partir de\n",
        "ahí varios laboratorios de diversos países/regiones como USA, europa, surcorea, fueron elaborando hipótesis y experimentos, para finalmente llegar a la conclusión de que LK-99 no era un\n",
        "superconductor, sino un aislante.\n",
        "\"\"\""
      ]
    }
  ],
  "metadata": {
    "colab": {
      "provenance": [],
      "include_colab_link": true
    },
    "kernelspec": {
      "display_name": "Python 3",
      "name": "python3"
    },
    "language_info": {
      "name": "python"
    }
  },
  "nbformat": 4,
  "nbformat_minor": 0
}